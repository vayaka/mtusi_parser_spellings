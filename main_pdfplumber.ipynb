{
 "cells": [
  {
   "cell_type": "code",
   "execution_count": 1,
   "id": "initial_id",
   "metadata": {
    "collapsed": true,
    "ExecuteTime": {
     "end_time": "2023-09-13T13:14:06.175782400Z",
     "start_time": "2023-09-13T13:14:06.009657700Z"
    }
   },
   "outputs": [
    {
     "name": "stdout",
     "output_type": "stream",
     "text": [
      "0.10.2\n"
     ]
    }
   ],
   "source": [
    "import pdfplumber\n",
    "from pdfplumber.ctm import CTM\n",
    "\n",
    "print(pdfplumber.__version__)"
   ]
  },
  {
   "cell_type": "code",
   "execution_count": 2,
   "outputs": [],
   "source": [
    "pdf = pdfplumber.open(\"test_files/BIN2305.pdf\")"
   ],
   "metadata": {
    "collapsed": false,
    "ExecuteTime": {
     "end_time": "2023-09-13T13:14:06.220356900Z",
     "start_time": "2023-09-13T13:14:06.167429400Z"
    }
   },
   "id": "81896c57003518d7"
  },
  {
   "cell_type": "code",
   "execution_count": 2,
   "outputs": [],
   "source": [],
   "metadata": {
    "collapsed": false,
    "ExecuteTime": {
     "end_time": "2023-09-13T13:14:07.939602300Z",
     "start_time": "2023-09-13T13:14:07.916621900Z"
    }
   },
   "id": "6d300907c1491c97"
  },
  {
   "cell_type": "code",
   "execution_count": 3,
   "outputs": [],
   "source": [
    "def keep_visible_lines(obj): # 204, 204, 255\n",
    "    if obj['object_type'] == 'rect':\n",
    "        return obj['non_stroking_color'] == 0\n",
    "    return True"
   ],
   "metadata": {
    "collapsed": false,
    "ExecuteTime": {
     "end_time": "2023-09-13T13:14:08.935418800Z",
     "start_time": "2023-09-13T13:14:08.918863300Z"
    }
   },
   "id": "266897d137d5edaa"
  },
  {
   "cell_type": "code",
   "execution_count": 4,
   "outputs": [],
   "source": [
    "p0 = pdf.pages[0]"
   ],
   "metadata": {
    "collapsed": false,
    "ExecuteTime": {
     "end_time": "2023-09-13T13:14:09.801483700Z",
     "start_time": "2023-09-13T13:14:09.770740500Z"
    }
   },
   "id": "3a5e3b8c9d8b8f1a"
  },
  {
   "cell_type": "code",
   "execution_count": 5,
   "outputs": [
    {
     "data": {
      "text/plain": "<pdfplumber.display.PageImage at 0x1f334cc9900>",
      "image/png": "[encoded data removed]"
     },
     "execution_count": 5,
     "metadata": {},
     "output_type": "execute_result"
    }
   ],
   "source": [
    "im = p0.crop((45, 205, 535, 630)).to_image() # \n",
    "# im.save(dest=\"test.png\", bits=16)\n",
    "im"
   ],
   "metadata": {
    "collapsed": false,
    "ExecuteTime": {
     "end_time": "2023-09-13T13:14:12.066570Z",
     "start_time": "2023-09-13T13:14:10.405597400Z"
    }
   },
   "id": "3f3321848787341b"
  },
  {
   "cell_type": "code",
   "execution_count": 7,
   "outputs": [],
   "source": [
    "table_settings = {\n",
    "    \"vertical_strategy\": \"lines\",\n",
    "    \"horizontal_strategy\": \"lines\",\n",
    "    \"intersection_tolerance\": 5\n",
    "}"
   ],
   "metadata": {
    "collapsed": false,
    "ExecuteTime": {
     "end_time": "2023-09-13T13:14:28.551000200Z",
     "start_time": "2023-09-13T13:14:28.519684300Z"
    }
   },
   "id": "46a68623fd40ea4e"
  },
  {
   "cell_type": "code",
   "execution_count": 9,
   "outputs": [
    {
     "ename": "TypeError",
     "evalue": "PageImage.debug_tablefinder() got an unexpected keyword argument 'use_flow_text'",
     "output_type": "error",
     "traceback": [
      "\u001B[1;31m---------------------------------------------------------------------------\u001B[0m",
      "\u001B[1;31mTypeError\u001B[0m                                 Traceback (most recent call last)",
      "Cell \u001B[1;32mIn[9], line 1\u001B[0m\n\u001B[1;32m----> 1\u001B[0m \u001B[43mim\u001B[49m\u001B[38;5;241;43m.\u001B[39;49m\u001B[43mreset\u001B[49m\u001B[43m(\u001B[49m\u001B[43m)\u001B[49m\u001B[38;5;241;43m.\u001B[39;49m\u001B[43mdebug_tablefinder\u001B[49m\u001B[43m(\u001B[49m\u001B[43mtable_settings\u001B[49m\u001B[43m,\u001B[49m\u001B[43m \u001B[49m\u001B[43muse_flow_text\u001B[49m\u001B[38;5;241;43m=\u001B[39;49m\u001B[38;5;28;43;01mTrue\u001B[39;49;00m\u001B[43m)\u001B[49m\n",
      "\u001B[1;31mTypeError\u001B[0m: PageImage.debug_tablefinder() got an unexpected keyword argument 'use_flow_text'"
     ]
    }
   ],
   "source": [
    "im.reset().debug_tablefinder(table_settings)"
   ],
   "metadata": {
    "collapsed": false,
    "ExecuteTime": {
     "end_time": "2023-09-13T13:14:55.685516200Z",
     "start_time": "2023-09-13T13:14:54.732987600Z"
    }
   },
   "id": "4a34be3f2be65f12"
  },
  {
   "cell_type": "code",
   "execution_count": 7,
   "outputs": [],
   "source": [],
   "metadata": {
    "collapsed": false,
    "ExecuteTime": {
     "end_time": "2023-09-08T15:16:23.495782400Z",
     "start_time": "2023-09-08T15:16:23.493312900Z"
    }
   },
   "id": "7ee9a07cb919e8ea"
  }
 ],
 "metadata": {
  "kernelspec": {
   "display_name": "Python 3",
   "language": "python",
   "name": "python3"
  },
  "language_info": {
   "codemirror_mode": {
    "name": "ipython",
    "version": 2
   },
   "file_extension": ".py",
   "mimetype": "text/x-python",
   "name": "python",
   "nbconvert_exporter": "python",
   "pygments_lexer": "ipython2",
   "version": "2.7.6"
  }
 },
 "nbformat": 4,
 "nbformat_minor": 5
}
