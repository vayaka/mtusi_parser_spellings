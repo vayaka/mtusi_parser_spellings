{
 "cells": [
  {
   "cell_type": "markdown",
   "metadata": {},
   "source": [
    "# Demonstration of `pdfplumber`'s `extract_table` method.\n",
    "\n",
    "This notebook uses `pdfplumber` to extract data from an [California Worker Adjustment and Retraining Notification (WARN) report](../pdfs/ca-warn-report.pdf)."
   ]
  },
  {
   "cell_type": "markdown",
   "metadata": {},
   "source": [
    "### Import `pdfplumber`"
   ]
  },
  {
   "cell_type": "code",
   "execution_count": 1,
   "metadata": {
    "execution": {
     "iopub.execute_input": "2022-07-18T14:47:49.044463Z",
     "iopub.status.busy": "2022-07-18T14:47:49.043937Z",
     "iopub.status.idle": "2022-07-18T14:47:49.090608Z",
     "shell.execute_reply": "2022-07-18T14:47:49.090181Z"
    },
    "ExecuteTime": {
     "end_time": "2023-09-08T13:40:30.839363800Z",
     "start_time": "2023-09-08T13:40:30.792696400Z"
    }
   },
   "outputs": [
    {
     "name": "stdout",
     "output_type": "stream",
     "text": [
      "0.10.2\n"
     ]
    }
   ],
   "source": [
    "import pdfplumber\n",
    "print(pdfplumber.__version__)"
   ]
  },
  {
   "cell_type": "markdown",
   "metadata": {},
   "source": [
    "### Load the PDF"
   ]
  },
  {
   "cell_type": "code",
   "execution_count": 3,
   "metadata": {
    "execution": {
     "iopub.execute_input": "2022-07-18T14:47:49.093045Z",
     "iopub.status.busy": "2022-07-18T14:47:49.092881Z",
     "iopub.status.idle": "2022-07-18T14:47:49.115547Z",
     "shell.execute_reply": "2022-07-18T14:47:49.115279Z"
    },
    "ExecuteTime": {
     "end_time": "2023-09-08T13:40:45.222910300Z",
     "start_time": "2023-09-08T13:40:45.191826200Z"
    }
   },
   "outputs": [],
   "source": [
    "pdf = pdfplumber.open(\"test_files/BIN2305.pdf\")"
   ]
  },
  {
   "cell_type": "markdown",
   "metadata": {},
   "source": [
    "### Get the first page"
   ]
  },
  {
   "cell_type": "code",
   "execution_count": 4,
   "metadata": {
    "execution": {
     "iopub.execute_input": "2022-07-18T14:47:49.117150Z",
     "iopub.status.busy": "2022-07-18T14:47:49.117042Z",
     "iopub.status.idle": "2022-07-18T14:47:49.124602Z",
     "shell.execute_reply": "2022-07-18T14:47:49.124365Z"
    },
    "ExecuteTime": {
     "end_time": "2023-09-08T13:40:47.314098Z",
     "start_time": "2023-09-08T13:40:47.311590800Z"
    }
   },
   "outputs": [],
   "source": [
    "p0 = pdf.pages[0]"
   ]
  },
  {
   "cell_type": "markdown",
   "metadata": {},
   "source": [
    "### Display the first page"
   ]
  },
  {
   "cell_type": "code",
   "execution_count": 28,
   "metadata": {
    "execution": {
     "iopub.execute_input": "2022-07-18T14:47:49.126047Z",
     "iopub.status.busy": "2022-07-18T14:47:49.125940Z",
     "iopub.status.idle": "2022-07-18T14:47:49.353507Z",
     "shell.execute_reply": "2022-07-18T14:47:49.353248Z"
    },
    "ExecuteTime": {
     "end_time": "2023-09-08T13:51:45.217109500Z",
     "start_time": "2023-09-08T13:51:45.189260800Z"
    }
   },
   "outputs": [
    {
     "data": {
      "text/plain": "<pdfplumber.display.PageImage at 0x1d1ec9e9a10>",
      "image/png": "[encoded data removed]"
     },
     "execution_count": 28,
     "metadata": {},
     "output_type": "execute_result"
    }
   ],
   "source": [
    "im = p0.crop(()).to_image()\n",
    "im"
   ]
  },
  {
   "cell_type": "markdown",
   "metadata": {},
   "source": [
    "### Use `.extract_table` to get the data from the largest table on the page"
   ]
  },
  {
   "cell_type": "code",
   "execution_count": 48,
   "metadata": {
    "execution": {
     "iopub.execute_input": "2022-07-18T14:47:49.355260Z",
     "iopub.status.busy": "2022-07-18T14:47:49.355148Z",
     "iopub.status.idle": "2022-07-18T14:47:49.541985Z",
     "shell.execute_reply": "2022-07-18T14:47:49.541545Z"
    },
    "ExecuteTime": {
     "end_time": "2023-09-08T13:59:30.974417400Z",
     "start_time": "2023-09-08T13:59:30.913753200Z"
    }
   },
   "outputs": [],
   "source": [
    "table = p0.extract_table(table_settings={\n",
    "    \"vertical_strategy\": \"lines\", \n",
    "    \"horizontal_strategy\": \"lines\",\n",
    "    \"explicit_vertical_lines\": [],\n",
    "    \"explicit_horizontal_lines\": [],\n",
    "    \"snap_tolerance\": 3,\n",
    "    \"snap_x_tolerance\": 3,\n",
    "    \"snap_y_tolerance\": 3,\n",
    "    \"join_tolerance\": 3,\n",
    "    \"join_x_tolerance\": 3,\n",
    "    \"join_y_tolerance\": 3,\n",
    "    \"edge_min_length\": 3,\n",
    "    \"min_words_vertical\": 3,\n",
    "    \"min_words_horizontal\": 1,\n",
    "    \"text_tolerance\": 3,\n",
    "    \"text_x_tolerance\": 3,\n",
    "    \"text_y_tolerance\": 3,\n",
    "    \"intersection_tolerance\": 3,\n",
    "    \"intersection_x_tolerance\": 3,\n",
    "    \"intersection_y_tolerance\": 3,\n",
    "})"
   ]
  },
  {
   "cell_type": "markdown",
   "metadata": {},
   "source": [
    "`.extract_table` returns a list of lists, with each inner list representing a row in the table. Here are the first three rows:"
   ]
  },
  {
   "cell_type": "code",
   "execution_count": 49,
   "metadata": {
    "execution": {
     "iopub.execute_input": "2022-07-18T14:47:49.543952Z",
     "iopub.status.busy": "2022-07-18T14:47:49.543825Z",
     "iopub.status.idle": "2022-07-18T14:47:49.546726Z",
     "shell.execute_reply": "2022-07-18T14:47:49.546289Z"
    },
    "ExecuteTime": {
     "end_time": "2023-09-08T13:59:33.593838Z",
     "start_time": "2023-09-08T13:59:33.589834500Z"
    }
   },
   "outputs": [
    {
     "data": {
      "text/plain": "[None,\n '3',\n '13.10-14.45',\n 'Н-230',\n 'л.',\n 'Александров Ю.Л.',\n 'Линейная алгебра и аналитическая\\nгеометрия\\n(с 3 до 17 нед.)',\n 'Высшая математика\\n(до 18 нед.)',\n 'Александров Ю.Л.',\n 'пр.',\n 'Н-308']"
     },
     "execution_count": 49,
     "metadata": {},
     "output_type": "execute_result"
    }
   ],
   "source": [
    "table[4]"
   ]
  },
  {
   "cell_type": "code",
   "execution_count": null,
   "outputs": [],
   "source": [
    "table.to_csv()"
   ],
   "metadata": {
    "collapsed": false
   }
  },
  {
   "cell_type": "markdown",
   "metadata": {},
   "source": [
    "## Basic cleanup\n",
    "\n",
    "We can use `pandas` to render the list as a DataFrame, and to remove the extra spaces within some of the dates."
   ]
  },
  {
   "cell_type": "code",
   "execution_count": 9,
   "metadata": {
    "execution": {
     "iopub.execute_input": "2022-07-18T14:47:49.548595Z",
     "iopub.status.busy": "2022-07-18T14:47:49.548470Z",
     "iopub.status.idle": "2022-07-18T14:47:49.829681Z",
     "shell.execute_reply": "2022-07-18T14:47:49.829370Z"
    },
    "ExecuteTime": {
     "end_time": "2023-09-08T13:41:24.217588500Z",
     "start_time": "2023-09-08T13:41:24.210582500Z"
    }
   },
   "outputs": [],
   "source": [
    "import pandas as pd"
   ]
  },
  {
   "cell_type": "code",
   "execution_count": 11,
   "metadata": {
    "execution": {
     "iopub.execute_input": "2022-07-18T14:47:49.831501Z",
     "iopub.status.busy": "2022-07-18T14:47:49.831343Z",
     "iopub.status.idle": "2022-07-18T14:47:49.836849Z",
     "shell.execute_reply": "2022-07-18T14:47:49.836593Z"
    },
    "ExecuteTime": {
     "end_time": "2023-09-08T13:41:43.917858300Z",
     "start_time": "2023-09-08T13:41:43.909730300Z"
    }
   },
   "outputs": [],
   "source": [
    "df = pd.DataFrame(table[1:], columns=table[0])\n",
    "# for column in [\"Effective\", \"Received\"]:\n",
    "#     df[column] = df[column].str.replace(\" \", \"\")"
   ]
  },
  {
   "cell_type": "code",
   "execution_count": 12,
   "metadata": {
    "execution": {
     "iopub.execute_input": "2022-07-18T14:47:49.838270Z",
     "iopub.status.busy": "2022-07-18T14:47:49.838160Z",
     "iopub.status.idle": "2022-07-18T14:47:49.844983Z",
     "shell.execute_reply": "2022-07-18T14:47:49.844735Z"
    },
    "ExecuteTime": {
     "end_time": "2023-09-08T13:41:44.794465800Z",
     "start_time": "2023-09-08T13:41:44.780460300Z"
    }
   },
   "outputs": [
    {
     "data": {
      "text/plain": "                                               Ауд. Вид занятия  \\\n0   День недели  Пара        Время  нечетная неделя        None   \n1   понедельник     1  09.30-11.05                                \n2          None     2  11.20-12.55                                \n3          None     3  13.10-14.45            Н-230          л.   \n4          None     4  15.25-17.00          Н-С/Зал         пр.   \n5          None     5  17.15-18.50            Н-338        лаб.   \n6       вторник     1  09.30-11.05                                \n7          None     2  11.20-12.55            Н-308         пр.   \n8          None     3  13.10-14.45          Н-С/Зал         пр.   \n9          None     4  15.25-17.00            Н-226         пр.   \n10         None     5  17.15-18.50            Н-418         пр.   \n11        среда     1  09.30-11.05                                \n12         None     2  11.20-12.55            Н-452         пр.   \n13         None     3  13.10-14.45            Н-452         пр.   \n14         None     4  15.25-17.00                                \n15         None     5  17.15-18.50                                \n16      четверг     1  09.30-11.05            Н-535          л.   \n17         None     2  11.20-12.55            Н-458          л.   \n18         None     3  13.10-14.45            Н-404         пр.   \n19         None     4  15.25-17.00                                \n20         None     5  17.15-18.50                                \n21      пятница     1  09.30-11.05                                \n22         None     2  11.20-12.55                                \n23         None     3  13.10-14.45                                \n24         None     4  15.25-17.00                                \n25         None     5  17.15-18.50                                \n26      суббота     1  09.30-11.05                                \n27         None     2  11.20-12.55            Н-458          л.   \n28         None     3  13.10-14.45            Н-318         пр.   \n29         None     4  15.25-17.00            Н-436         пр.   \n30         None     5  17.15-18.50                                \n\n        Преподаватель                                         Дисциплина  \\\n0                None                                               None   \n1                                                                          \n2                                                                          \n3    Александров Ю.Л.  Линейная алгебра и аналитическая\\nгеометрия\\n(...   \n4              каф ФВ      Физическая культура и спорт\\n(с 3 до 17 нед.)   \n5         Тренин А.Е.                           Физика\\n(с 3 до 17 нед.)   \n6                                                                          \n7    Александров Ю.Л.  Линейная алгебра и аналитическая\\nгеометрия\\n(...   \n8              каф ФВ      Физическая культура и спорт\\n(с 3 до 17 нед.)   \n9     Иноземцева Н.Г.                           Физика\\n(с 3 до 17 нед.)   \n10  Хуснутдинова Л.Г.  Основы российской\\nгосударственности\\n(с 3 до ...   \n11                                                                         \n12      Бочарова Т.И.     Русский язык и культура речи\\n(с 3 до 17 нед.)   \n13      Бочарова Т.И.     Русский язык и культура речи\\n(с 3 до 17 нед.)   \n14                                                                         \n15                                                                         \n16      Бочарова Т.И.     Русский язык и культура речи\\n(с 3 до 17 нед.)   \n17   Александров Ю.Л.                Высшая математика\\n(с 3 до 17 нед.)   \n18   Александров Ю.Л.                Высшая математика\\n(с 3 до 17 нед.)   \n19                                                                         \n20                                                                         \n21                                                                         \n22                                                                         \n23                                                                         \n24                                                                         \n25                                                                         \n26                                                                         \n27    Шаколюкова В.Д.                            Философия\\n(до 17 нед.)   \n28    Шаколюкова В.Д.                            Философия\\n(до 17 нед.)   \n29        Денеко М.В.                     Иностранный язык\\n(до 17 нед.)   \n30                                                                         \n\n                                           Дисциплина      Преподаватель  \\\n0                                       четная неделя               None   \n1                                                                          \n2                                                                          \n3                     Высшая математика\\n(до 18 нед.)   Александров Ю.Л.   \n4           Физическая культура и спорт\\n(до 18 нед.)             каф ФВ   \n5   Линейная алгебра и аналитическая\\nгеометрия\\n(...   Александров Ю.Л.   \n6                                                                          \n7                                                                          \n8                                Физика\\n(до 18 нед.)    Иноземцева Н.Г.   \n9   Основы российской\\nгосударственности\\n(до 18 н...  Хуснутдинова Л.Г.   \n10  Основы российской\\nгосударственности\\n(до 18 н...  Хуснутдинова Л.Г.   \n11                                                                         \n12                                                                         \n13  Введение в информационные\\nтехнологии\\n(до 18 ...  Рабенандрасана Ж.   \n14  Введение в информационные\\nтехнологии\\n(до 18 ...  Рабенандрасана Ж.   \n15                                                                         \n16                                                                         \n17                            Философия\\n(до 18 нед.)    Шаколюкова В.Д.   \n18                            Философия\\n(до 18 нед.)    Шаколюкова В.Д.   \n19          Физическая культура и спорт\\n(до 18 нед.)             каф ФВ   \n20                                                                         \n21                                                                         \n22                                                                         \n23                                                                         \n24                                                                         \n25                                                                         \n26                                                                         \n27  Введение в информационные\\nтехнологии\\n(до 18 ...       Казиева Т.В.   \n28                     Иностранный язык\\n(до 16 нед.)        Денеко М.В.   \n29                                                                         \n30                                                                         \n\n   Вид занятия       Ауд.  \n0         None       None  \n1                          \n2                          \n3          пр.      Н-308  \n4          пр.    Н-С/Зал  \n5          пр.      Н-404  \n6                          \n7                          \n8           л.      Н-458  \n9           л.      Н-535  \n10         пр.      Н-318  \n11                         \n12                         \n13        лаб.  А-УЛК-702  \n14        лаб.  А-УЛК-702  \n15                         \n16                         \n17          л.      Н-535  \n18         пр.     Н-301а  \n19         пр.    Н-С/Зал  \n20                         \n21                         \n22                         \n23                         \n24                         \n25                         \n26                         \n27          л.      А-502  \n28         пр.         А-  \n29                         \n30                         ",
      "text/html": "<div>\n<style scoped>\n    .dataframe tbody tr th:only-of-type {\n        vertical-align: middle;\n    }\n\n    .dataframe tbody tr th {\n        vertical-align: top;\n    }\n\n    .dataframe thead th {\n        text-align: right;\n    }\n</style>\n<table border=\"1\" class=\"dataframe\">\n  <thead>\n    <tr style=\"text-align: right;\">\n      <th></th>\n      <th></th>\n      <th></th>\n      <th></th>\n      <th>Ауд.</th>\n      <th>Вид занятия</th>\n      <th>Преподаватель</th>\n      <th>Дисциплина</th>\n      <th>Дисциплина</th>\n      <th>Преподаватель</th>\n      <th>Вид занятия</th>\n      <th>Ауд.</th>\n    </tr>\n  </thead>\n  <tbody>\n    <tr>\n      <th>0</th>\n      <td>День недели</td>\n      <td>Пара</td>\n      <td>Время</td>\n      <td>нечетная неделя</td>\n      <td>None</td>\n      <td>None</td>\n      <td>None</td>\n      <td>четная неделя</td>\n      <td>None</td>\n      <td>None</td>\n      <td>None</td>\n    </tr>\n    <tr>\n      <th>1</th>\n      <td>понедельник</td>\n      <td>1</td>\n      <td>09.30-11.05</td>\n      <td></td>\n      <td></td>\n      <td></td>\n      <td></td>\n      <td></td>\n      <td></td>\n      <td></td>\n      <td></td>\n    </tr>\n    <tr>\n      <th>2</th>\n      <td>None</td>\n      <td>2</td>\n      <td>11.20-12.55</td>\n      <td></td>\n      <td></td>\n      <td></td>\n      <td></td>\n      <td></td>\n      <td></td>\n      <td></td>\n      <td></td>\n    </tr>\n    <tr>\n      <th>3</th>\n      <td>None</td>\n      <td>3</td>\n      <td>13.10-14.45</td>\n      <td>Н-230</td>\n      <td>л.</td>\n      <td>Александров Ю.Л.</td>\n      <td>Линейная алгебра и аналитическая\\nгеометрия\\n(...</td>\n      <td>Высшая математика\\n(до 18 нед.)</td>\n      <td>Александров Ю.Л.</td>\n      <td>пр.</td>\n      <td>Н-308</td>\n    </tr>\n    <tr>\n      <th>4</th>\n      <td>None</td>\n      <td>4</td>\n      <td>15.25-17.00</td>\n      <td>Н-С/Зал</td>\n      <td>пр.</td>\n      <td>каф ФВ</td>\n      <td>Физическая культура и спорт\\n(с 3 до 17 нед.)</td>\n      <td>Физическая культура и спорт\\n(до 18 нед.)</td>\n      <td>каф ФВ</td>\n      <td>пр.</td>\n      <td>Н-С/Зал</td>\n    </tr>\n    <tr>\n      <th>5</th>\n      <td>None</td>\n      <td>5</td>\n      <td>17.15-18.50</td>\n      <td>Н-338</td>\n      <td>лаб.</td>\n      <td>Тренин А.Е.</td>\n      <td>Физика\\n(с 3 до 17 нед.)</td>\n      <td>Линейная алгебра и аналитическая\\nгеометрия\\n(...</td>\n      <td>Александров Ю.Л.</td>\n      <td>пр.</td>\n      <td>Н-404</td>\n    </tr>\n    <tr>\n      <th>6</th>\n      <td>вторник</td>\n      <td>1</td>\n      <td>09.30-11.05</td>\n      <td></td>\n      <td></td>\n      <td></td>\n      <td></td>\n      <td></td>\n      <td></td>\n      <td></td>\n      <td></td>\n    </tr>\n    <tr>\n      <th>7</th>\n      <td>None</td>\n      <td>2</td>\n      <td>11.20-12.55</td>\n      <td>Н-308</td>\n      <td>пр.</td>\n      <td>Александров Ю.Л.</td>\n      <td>Линейная алгебра и аналитическая\\nгеометрия\\n(...</td>\n      <td></td>\n      <td></td>\n      <td></td>\n      <td></td>\n    </tr>\n    <tr>\n      <th>8</th>\n      <td>None</td>\n      <td>3</td>\n      <td>13.10-14.45</td>\n      <td>Н-С/Зал</td>\n      <td>пр.</td>\n      <td>каф ФВ</td>\n      <td>Физическая культура и спорт\\n(с 3 до 17 нед.)</td>\n      <td>Физика\\n(до 18 нед.)</td>\n      <td>Иноземцева Н.Г.</td>\n      <td>л.</td>\n      <td>Н-458</td>\n    </tr>\n    <tr>\n      <th>9</th>\n      <td>None</td>\n      <td>4</td>\n      <td>15.25-17.00</td>\n      <td>Н-226</td>\n      <td>пр.</td>\n      <td>Иноземцева Н.Г.</td>\n      <td>Физика\\n(с 3 до 17 нед.)</td>\n      <td>Основы российской\\nгосударственности\\n(до 18 н...</td>\n      <td>Хуснутдинова Л.Г.</td>\n      <td>л.</td>\n      <td>Н-535</td>\n    </tr>\n    <tr>\n      <th>10</th>\n      <td>None</td>\n      <td>5</td>\n      <td>17.15-18.50</td>\n      <td>Н-418</td>\n      <td>пр.</td>\n      <td>Хуснутдинова Л.Г.</td>\n      <td>Основы российской\\nгосударственности\\n(с 3 до ...</td>\n      <td>Основы российской\\nгосударственности\\n(до 18 н...</td>\n      <td>Хуснутдинова Л.Г.</td>\n      <td>пр.</td>\n      <td>Н-318</td>\n    </tr>\n    <tr>\n      <th>11</th>\n      <td>среда</td>\n      <td>1</td>\n      <td>09.30-11.05</td>\n      <td></td>\n      <td></td>\n      <td></td>\n      <td></td>\n      <td></td>\n      <td></td>\n      <td></td>\n      <td></td>\n    </tr>\n    <tr>\n      <th>12</th>\n      <td>None</td>\n      <td>2</td>\n      <td>11.20-12.55</td>\n      <td>Н-452</td>\n      <td>пр.</td>\n      <td>Бочарова Т.И.</td>\n      <td>Русский язык и культура речи\\n(с 3 до 17 нед.)</td>\n      <td></td>\n      <td></td>\n      <td></td>\n      <td></td>\n    </tr>\n    <tr>\n      <th>13</th>\n      <td>None</td>\n      <td>3</td>\n      <td>13.10-14.45</td>\n      <td>Н-452</td>\n      <td>пр.</td>\n      <td>Бочарова Т.И.</td>\n      <td>Русский язык и культура речи\\n(с 3 до 17 нед.)</td>\n      <td>Введение в информационные\\nтехнологии\\n(до 18 ...</td>\n      <td>Рабенандрасана Ж.</td>\n      <td>лаб.</td>\n      <td>А-УЛК-702</td>\n    </tr>\n    <tr>\n      <th>14</th>\n      <td>None</td>\n      <td>4</td>\n      <td>15.25-17.00</td>\n      <td></td>\n      <td></td>\n      <td></td>\n      <td></td>\n      <td>Введение в информационные\\nтехнологии\\n(до 18 ...</td>\n      <td>Рабенандрасана Ж.</td>\n      <td>лаб.</td>\n      <td>А-УЛК-702</td>\n    </tr>\n    <tr>\n      <th>15</th>\n      <td>None</td>\n      <td>5</td>\n      <td>17.15-18.50</td>\n      <td></td>\n      <td></td>\n      <td></td>\n      <td></td>\n      <td></td>\n      <td></td>\n      <td></td>\n      <td></td>\n    </tr>\n    <tr>\n      <th>16</th>\n      <td>четверг</td>\n      <td>1</td>\n      <td>09.30-11.05</td>\n      <td>Н-535</td>\n      <td>л.</td>\n      <td>Бочарова Т.И.</td>\n      <td>Русский язык и культура речи\\n(с 3 до 17 нед.)</td>\n      <td></td>\n      <td></td>\n      <td></td>\n      <td></td>\n    </tr>\n    <tr>\n      <th>17</th>\n      <td>None</td>\n      <td>2</td>\n      <td>11.20-12.55</td>\n      <td>Н-458</td>\n      <td>л.</td>\n      <td>Александров Ю.Л.</td>\n      <td>Высшая математика\\n(с 3 до 17 нед.)</td>\n      <td>Философия\\n(до 18 нед.)</td>\n      <td>Шаколюкова В.Д.</td>\n      <td>л.</td>\n      <td>Н-535</td>\n    </tr>\n    <tr>\n      <th>18</th>\n      <td>None</td>\n      <td>3</td>\n      <td>13.10-14.45</td>\n      <td>Н-404</td>\n      <td>пр.</td>\n      <td>Александров Ю.Л.</td>\n      <td>Высшая математика\\n(с 3 до 17 нед.)</td>\n      <td>Философия\\n(до 18 нед.)</td>\n      <td>Шаколюкова В.Д.</td>\n      <td>пр.</td>\n      <td>Н-301а</td>\n    </tr>\n    <tr>\n      <th>19</th>\n      <td>None</td>\n      <td>4</td>\n      <td>15.25-17.00</td>\n      <td></td>\n      <td></td>\n      <td></td>\n      <td></td>\n      <td>Физическая культура и спорт\\n(до 18 нед.)</td>\n      <td>каф ФВ</td>\n      <td>пр.</td>\n      <td>Н-С/Зал</td>\n    </tr>\n    <tr>\n      <th>20</th>\n      <td>None</td>\n      <td>5</td>\n      <td>17.15-18.50</td>\n      <td></td>\n      <td></td>\n      <td></td>\n      <td></td>\n      <td></td>\n      <td></td>\n      <td></td>\n      <td></td>\n    </tr>\n    <tr>\n      <th>21</th>\n      <td>пятница</td>\n      <td>1</td>\n      <td>09.30-11.05</td>\n      <td></td>\n      <td></td>\n      <td></td>\n      <td></td>\n      <td></td>\n      <td></td>\n      <td></td>\n      <td></td>\n    </tr>\n    <tr>\n      <th>22</th>\n      <td>None</td>\n      <td>2</td>\n      <td>11.20-12.55</td>\n      <td></td>\n      <td></td>\n      <td></td>\n      <td></td>\n      <td></td>\n      <td></td>\n      <td></td>\n      <td></td>\n    </tr>\n    <tr>\n      <th>23</th>\n      <td>None</td>\n      <td>3</td>\n      <td>13.10-14.45</td>\n      <td></td>\n      <td></td>\n      <td></td>\n      <td></td>\n      <td></td>\n      <td></td>\n      <td></td>\n      <td></td>\n    </tr>\n    <tr>\n      <th>24</th>\n      <td>None</td>\n      <td>4</td>\n      <td>15.25-17.00</td>\n      <td></td>\n      <td></td>\n      <td></td>\n      <td></td>\n      <td></td>\n      <td></td>\n      <td></td>\n      <td></td>\n    </tr>\n    <tr>\n      <th>25</th>\n      <td>None</td>\n      <td>5</td>\n      <td>17.15-18.50</td>\n      <td></td>\n      <td></td>\n      <td></td>\n      <td></td>\n      <td></td>\n      <td></td>\n      <td></td>\n      <td></td>\n    </tr>\n    <tr>\n      <th>26</th>\n      <td>суббота</td>\n      <td>1</td>\n      <td>09.30-11.05</td>\n      <td></td>\n      <td></td>\n      <td></td>\n      <td></td>\n      <td></td>\n      <td></td>\n      <td></td>\n      <td></td>\n    </tr>\n    <tr>\n      <th>27</th>\n      <td>None</td>\n      <td>2</td>\n      <td>11.20-12.55</td>\n      <td>Н-458</td>\n      <td>л.</td>\n      <td>Шаколюкова В.Д.</td>\n      <td>Философия\\n(до 17 нед.)</td>\n      <td>Введение в информационные\\nтехнологии\\n(до 18 ...</td>\n      <td>Казиева Т.В.</td>\n      <td>л.</td>\n      <td>А-502</td>\n    </tr>\n    <tr>\n      <th>28</th>\n      <td>None</td>\n      <td>3</td>\n      <td>13.10-14.45</td>\n      <td>Н-318</td>\n      <td>пр.</td>\n      <td>Шаколюкова В.Д.</td>\n      <td>Философия\\n(до 17 нед.)</td>\n      <td>Иностранный язык\\n(до 16 нед.)</td>\n      <td>Денеко М.В.</td>\n      <td>пр.</td>\n      <td>А-</td>\n    </tr>\n    <tr>\n      <th>29</th>\n      <td>None</td>\n      <td>4</td>\n      <td>15.25-17.00</td>\n      <td>Н-436</td>\n      <td>пр.</td>\n      <td>Денеко М.В.</td>\n      <td>Иностранный язык\\n(до 17 нед.)</td>\n      <td></td>\n      <td></td>\n      <td></td>\n      <td></td>\n    </tr>\n    <tr>\n      <th>30</th>\n      <td>None</td>\n      <td>5</td>\n      <td>17.15-18.50</td>\n      <td></td>\n      <td></td>\n      <td></td>\n      <td></td>\n      <td></td>\n      <td></td>\n      <td></td>\n      <td></td>\n    </tr>\n  </tbody>\n</table>\n</div>"
     },
     "execution_count": 12,
     "metadata": {},
     "output_type": "execute_result"
    }
   ],
   "source": [
    "df"
   ]
  },
  {
   "cell_type": "markdown",
   "metadata": {},
   "source": [
    "## How did it work?\n",
    "\n",
    "We can use `pdfplumber`'s visual debugging to show how the table was extracted. The red lines represent the lines `pdfplumber` found on the page; the blue circles represent the intersections of those lines, and the light-blue shading indicates the cells derived from those intersections."
   ]
  },
  {
   "cell_type": "code",
   "execution_count": 45,
   "metadata": {
    "execution": {
     "iopub.execute_input": "2022-07-18T14:47:49.846583Z",
     "iopub.status.busy": "2022-07-18T14:47:49.846481Z",
     "iopub.status.idle": "2022-07-18T14:47:49.897806Z",
     "shell.execute_reply": "2022-07-18T14:47:49.896920Z"
    },
    "ExecuteTime": {
     "end_time": "2023-09-08T13:57:33.617126400Z",
     "start_time": "2023-09-08T13:57:33.579092300Z"
    }
   },
   "outputs": [
    {
     "data": {
      "text/plain": "<pdfplumber.display.PageImage at 0x1d1ec9e9a10>",
      "image/png": "[encoded data removed]"
     },
     "execution_count": 45,
     "metadata": {},
     "output_type": "execute_result"
    }
   ],
   "source": [
    "im.debug_tablefinder()"
   ]
  },
  {
   "cell_type": "markdown",
   "metadata": {},
   "source": [
    "---\n",
    "\n",
    "---\n",
    "\n",
    "---"
   ]
  }
 ],
 "metadata": {
  "kernelspec": {
   "display_name": "Python 3 (ipykernel)",
   "language": "python",
   "name": "python3"
  },
  "language_info": {
   "codemirror_mode": {
    "name": "ipython",
    "version": 3
   },
   "file_extension": ".py",
   "mimetype": "text/x-python",
   "name": "python",
   "nbconvert_exporter": "python",
   "pygments_lexer": "ipython3",
   "version": "3.10.4"
  }
 },
 "nbformat": 4,
 "nbformat_minor": 4
}
